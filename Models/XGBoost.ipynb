{
  "nbformat": 4,
  "nbformat_minor": 0,
  "metadata": {
    "colab": {
      "name": "Untitled5.ipynb",
      "provenance": [],
      "collapsed_sections": [],
      "machine_shape": "hm",
      "include_colab_link": true
    },
    "kernelspec": {
      "name": "python3",
      "display_name": "Python 3"
    }
  },
  "cells": [
    {
      "cell_type": "markdown",
      "metadata": {
        "id": "view-in-github",
        "colab_type": "text"
      },
      "source": [
        "<a href=\"https://colab.research.google.com/github/kushal-g/FlightDelayPredictor/blob/master/Models/XGBoost.ipynb\" target=\"_parent\"><img src=\"https://colab.research.google.com/assets/colab-badge.svg\" alt=\"Open In Colab\"/></a>"
      ]
    },
    {
      "cell_type": "code",
      "metadata": {
        "id": "6krW2d-gTcd9",
        "colab_type": "code",
        "colab": {}
      },
      "source": [
        "import numpy as np\n",
        "import pandas as pd\n",
        "import seaborn as sns\n",
        "from multiprocessing import Pool\n",
        "from xgboost import XGBClassifier"
      ],
      "execution_count": 0,
      "outputs": []
    },
    {
      "cell_type": "code",
      "metadata": {
        "id": "9ybfpvN2TjOy",
        "colab_type": "code",
        "outputId": "4aca932d-7cb9-45ac-e861-3960f6d9ff4b",
        "colab": {
          "base_uri": "https://localhost:8080/",
          "height": 122
        }
      },
      "source": [
        "from google.colab import drive\n",
        "drive.mount('/content/gdrive')"
      ],
      "execution_count": 0,
      "outputs": [
        {
          "output_type": "stream",
          "text": [
            "Go to this URL in a browser: https://accounts.google.com/o/oauth2/auth?client_id=947318989803-6bn6qk8qdgf4n4g3pfee6491hc0brc4i.apps.googleusercontent.com&redirect_uri=urn%3aietf%3awg%3aoauth%3a2.0%3aoob&response_type=code&scope=email%20https%3a%2f%2fwww.googleapis.com%2fauth%2fdocs.test%20https%3a%2f%2fwww.googleapis.com%2fauth%2fdrive%20https%3a%2f%2fwww.googleapis.com%2fauth%2fdrive.photos.readonly%20https%3a%2f%2fwww.googleapis.com%2fauth%2fpeopleapi.readonly\n",
            "\n",
            "Enter your authorization code:\n",
            "··········\n",
            "Mounted at /content/gdrive\n"
          ],
          "name": "stdout"
        }
      ]
    },
    {
      "cell_type": "code",
      "metadata": {
        "id": "cIZErNa_TrDh",
        "colab_type": "code",
        "outputId": "335ba08c-e348-4bd5-a370-c57cdafa28db",
        "colab": {
          "base_uri": "https://localhost:8080/",
          "height": 34
        }
      },
      "source": [
        "cd /content/gdrive/My\\ Drive"
      ],
      "execution_count": 0,
      "outputs": [
        {
          "output_type": "stream",
          "text": [
            "/content/gdrive/My Drive\n"
          ],
          "name": "stdout"
        }
      ]
    },
    {
      "cell_type": "code",
      "metadata": {
        "id": "tuE-mYWYTvat",
        "colab_type": "code",
        "colab": {}
      },
      "source": [
        "df = pd.read_csv(\"flights_logistic_final.csv\",dtype={\"ORIGIN_AIRPORT\":object,\"DESTINATION_AIRPORT\":object})"
      ],
      "execution_count": 0,
      "outputs": []
    },
    {
      "cell_type": "code",
      "metadata": {
        "id": "NvcxJIMV1vlc",
        "colab_type": "code",
        "outputId": "913802e4-ebb8-4297-c0f6-3bb9e0ab2b71",
        "colab": {
          "base_uri": "https://localhost:8080/",
          "height": 270
        }
      },
      "source": [
        "df.head()"
      ],
      "execution_count": 0,
      "outputs": [
        {
          "output_type": "execute_result",
          "data": {
            "text/html": [
              "<div>\n",
              "<style scoped>\n",
              "    .dataframe tbody tr th:only-of-type {\n",
              "        vertical-align: middle;\n",
              "    }\n",
              "\n",
              "    .dataframe tbody tr th {\n",
              "        vertical-align: top;\n",
              "    }\n",
              "\n",
              "    .dataframe thead th {\n",
              "        text-align: right;\n",
              "    }\n",
              "</style>\n",
              "<table border=\"1\" class=\"dataframe\">\n",
              "  <thead>\n",
              "    <tr style=\"text-align: right;\">\n",
              "      <th></th>\n",
              "      <th>Unnamed: 0</th>\n",
              "      <th>YEAR</th>\n",
              "      <th>MONTH</th>\n",
              "      <th>DAY</th>\n",
              "      <th>DAY_OF_WEEK</th>\n",
              "      <th>AIRLINE</th>\n",
              "      <th>FLIGHT_NUMBER</th>\n",
              "      <th>TAIL_NUMBER</th>\n",
              "      <th>ORIGIN_AIRPORT</th>\n",
              "      <th>DESTINATION_AIRPORT</th>\n",
              "      <th>DEPARTURE_DELAY</th>\n",
              "      <th>TAXI_OUT</th>\n",
              "      <th>WHEELS_OFF</th>\n",
              "      <th>SCHEDULED_TIME</th>\n",
              "      <th>ELAPSED_TIME</th>\n",
              "      <th>AIR_TIME</th>\n",
              "      <th>DISTANCE</th>\n",
              "      <th>WHEELS_ON</th>\n",
              "      <th>TAXI_IN</th>\n",
              "      <th>ARRIVAL_DELAY</th>\n",
              "      <th>DIVERTED</th>\n",
              "      <th>CANCELLED</th>\n",
              "      <th>SCHEDULED_DEPARTURE</th>\n",
              "      <th>SCHEDULED_ARRIVAL</th>\n",
              "      <th>ARRIVAL_DELAY_BOOL</th>\n",
              "      <th>TAIL_NUMBERS_BINNED</th>\n",
              "      <th>ORIGIN_AIRPORT_BINNED</th>\n",
              "      <th>DESTINATION_AIRPORT_BINNED</th>\n",
              "      <th>MONTH_2</th>\n",
              "      <th>MONTH_3</th>\n",
              "      <th>MONTH_4</th>\n",
              "      <th>MONTH_5</th>\n",
              "      <th>MONTH_6</th>\n",
              "      <th>MONTH_7</th>\n",
              "      <th>MONTH_8</th>\n",
              "      <th>MONTH_9</th>\n",
              "      <th>MONTH_10</th>\n",
              "      <th>MONTH_11</th>\n",
              "      <th>MONTH_12</th>\n",
              "      <th>DAY_OF_WEEK_2</th>\n",
              "      <th>...</th>\n",
              "      <th>DESTINATION_AIRPORT_20</th>\n",
              "      <th>DESTINATION_AIRPORT_21</th>\n",
              "      <th>DESTINATION_AIRPORT_22</th>\n",
              "      <th>DESTINATION_AIRPORT_23</th>\n",
              "      <th>DESTINATION_AIRPORT_24</th>\n",
              "      <th>SCHEDULED_DEPARTURE_(1000.0, 1200.0]</th>\n",
              "      <th>SCHEDULED_DEPARTURE_(1200.0, 1400.0]</th>\n",
              "      <th>SCHEDULED_DEPARTURE_(1400.0, 1600.0]</th>\n",
              "      <th>SCHEDULED_DEPARTURE_(1600.0, 1800.0]</th>\n",
              "      <th>SCHEDULED_DEPARTURE_(1800.0, 2000.0]</th>\n",
              "      <th>SCHEDULED_DEPARTURE_(200.0, 400.0]</th>\n",
              "      <th>SCHEDULED_DEPARTURE_(2000.0, 2200.0]</th>\n",
              "      <th>SCHEDULED_DEPARTURE_(2200.0, 2400.0]</th>\n",
              "      <th>SCHEDULED_DEPARTURE_(400.0, 600.0]</th>\n",
              "      <th>SCHEDULED_DEPARTURE_(600.0, 800.0]</th>\n",
              "      <th>SCHEDULED_DEPARTURE_(800.0, 1000.0]</th>\n",
              "      <th>SCHEDULED_ARRIVAL_(1000.0, 1200.0]</th>\n",
              "      <th>SCHEDULED_ARRIVAL_(1200.0, 1400.0]</th>\n",
              "      <th>SCHEDULED_ARRIVAL_(1400.0, 1600.0]</th>\n",
              "      <th>SCHEDULED_ARRIVAL_(1600.0, 1800.0]</th>\n",
              "      <th>SCHEDULED_ARRIVAL_(1800.0, 2000.0]</th>\n",
              "      <th>SCHEDULED_ARRIVAL_(200.0, 400.0]</th>\n",
              "      <th>SCHEDULED_ARRIVAL_(2000.0, 2200.0]</th>\n",
              "      <th>SCHEDULED_ARRIVAL_(2200.0, 2400.0]</th>\n",
              "      <th>SCHEDULED_ARRIVAL_(400.0, 600.0]</th>\n",
              "      <th>SCHEDULED_ARRIVAL_(600.0, 800.0]</th>\n",
              "      <th>SCHEDULED_ARRIVAL_(800.0, 1000.0]</th>\n",
              "      <th>AIRLINE_AS</th>\n",
              "      <th>AIRLINE_B6</th>\n",
              "      <th>AIRLINE_DL</th>\n",
              "      <th>AIRLINE_EV</th>\n",
              "      <th>AIRLINE_F9</th>\n",
              "      <th>AIRLINE_HA</th>\n",
              "      <th>AIRLINE_MQ</th>\n",
              "      <th>AIRLINE_NK</th>\n",
              "      <th>AIRLINE_OO</th>\n",
              "      <th>AIRLINE_UA</th>\n",
              "      <th>AIRLINE_US</th>\n",
              "      <th>AIRLINE_VX</th>\n",
              "      <th>AIRLINE_WN</th>\n",
              "    </tr>\n",
              "  </thead>\n",
              "  <tbody>\n",
              "    <tr>\n",
              "      <th>0</th>\n",
              "      <td>0</td>\n",
              "      <td>2015</td>\n",
              "      <td>12</td>\n",
              "      <td>25</td>\n",
              "      <td>5</td>\n",
              "      <td>EV</td>\n",
              "      <td>3846</td>\n",
              "      <td>N21154</td>\n",
              "      <td>HOB</td>\n",
              "      <td>IAH</td>\n",
              "      <td>-5.0</td>\n",
              "      <td>6.0</td>\n",
              "      <td>901.0</td>\n",
              "      <td>101.0</td>\n",
              "      <td>86.0</td>\n",
              "      <td>74.0</td>\n",
              "      <td>501</td>\n",
              "      <td>1115.0</td>\n",
              "      <td>6.0</td>\n",
              "      <td>-20.0</td>\n",
              "      <td>0</td>\n",
              "      <td>0</td>\n",
              "      <td>(800.0, 1000.0]</td>\n",
              "      <td>(1000.0, 1200.0]</td>\n",
              "      <td>0</td>\n",
              "      <td>29</td>\n",
              "      <td>15</td>\n",
              "      <td>0</td>\n",
              "      <td>0</td>\n",
              "      <td>0</td>\n",
              "      <td>0</td>\n",
              "      <td>0</td>\n",
              "      <td>0</td>\n",
              "      <td>0</td>\n",
              "      <td>0</td>\n",
              "      <td>0</td>\n",
              "      <td>0</td>\n",
              "      <td>0</td>\n",
              "      <td>1</td>\n",
              "      <td>0</td>\n",
              "      <td>...</td>\n",
              "      <td>0</td>\n",
              "      <td>0</td>\n",
              "      <td>0</td>\n",
              "      <td>0</td>\n",
              "      <td>0</td>\n",
              "      <td>0</td>\n",
              "      <td>0</td>\n",
              "      <td>0</td>\n",
              "      <td>0</td>\n",
              "      <td>0</td>\n",
              "      <td>0</td>\n",
              "      <td>0</td>\n",
              "      <td>0</td>\n",
              "      <td>0</td>\n",
              "      <td>0</td>\n",
              "      <td>1</td>\n",
              "      <td>1</td>\n",
              "      <td>0</td>\n",
              "      <td>0</td>\n",
              "      <td>0</td>\n",
              "      <td>0</td>\n",
              "      <td>0</td>\n",
              "      <td>0</td>\n",
              "      <td>0</td>\n",
              "      <td>0</td>\n",
              "      <td>0</td>\n",
              "      <td>0</td>\n",
              "      <td>0</td>\n",
              "      <td>0</td>\n",
              "      <td>0</td>\n",
              "      <td>1</td>\n",
              "      <td>0</td>\n",
              "      <td>0</td>\n",
              "      <td>0</td>\n",
              "      <td>0</td>\n",
              "      <td>0</td>\n",
              "      <td>0</td>\n",
              "      <td>0</td>\n",
              "      <td>0</td>\n",
              "      <td>0</td>\n",
              "    </tr>\n",
              "    <tr>\n",
              "      <th>1</th>\n",
              "      <td>1</td>\n",
              "      <td>2015</td>\n",
              "      <td>1</td>\n",
              "      <td>1</td>\n",
              "      <td>4</td>\n",
              "      <td>EV</td>\n",
              "      <td>5690</td>\n",
              "      <td>N836AS</td>\n",
              "      <td>IAD</td>\n",
              "      <td>PIT</td>\n",
              "      <td>-4.0</td>\n",
              "      <td>16.0</td>\n",
              "      <td>1258.0</td>\n",
              "      <td>61.0</td>\n",
              "      <td>57.0</td>\n",
              "      <td>37.0</td>\n",
              "      <td>182</td>\n",
              "      <td>1335.0</td>\n",
              "      <td>4.0</td>\n",
              "      <td>-8.0</td>\n",
              "      <td>0</td>\n",
              "      <td>0</td>\n",
              "      <td>(1200.0, 1400.0]</td>\n",
              "      <td>(1200.0, 1400.0]</td>\n",
              "      <td>0</td>\n",
              "      <td>40</td>\n",
              "      <td>1</td>\n",
              "      <td>2</td>\n",
              "      <td>0</td>\n",
              "      <td>0</td>\n",
              "      <td>0</td>\n",
              "      <td>0</td>\n",
              "      <td>0</td>\n",
              "      <td>0</td>\n",
              "      <td>0</td>\n",
              "      <td>0</td>\n",
              "      <td>0</td>\n",
              "      <td>0</td>\n",
              "      <td>0</td>\n",
              "      <td>0</td>\n",
              "      <td>...</td>\n",
              "      <td>0</td>\n",
              "      <td>0</td>\n",
              "      <td>0</td>\n",
              "      <td>0</td>\n",
              "      <td>0</td>\n",
              "      <td>0</td>\n",
              "      <td>1</td>\n",
              "      <td>0</td>\n",
              "      <td>0</td>\n",
              "      <td>0</td>\n",
              "      <td>0</td>\n",
              "      <td>0</td>\n",
              "      <td>0</td>\n",
              "      <td>0</td>\n",
              "      <td>0</td>\n",
              "      <td>0</td>\n",
              "      <td>0</td>\n",
              "      <td>1</td>\n",
              "      <td>0</td>\n",
              "      <td>0</td>\n",
              "      <td>0</td>\n",
              "      <td>0</td>\n",
              "      <td>0</td>\n",
              "      <td>0</td>\n",
              "      <td>0</td>\n",
              "      <td>0</td>\n",
              "      <td>0</td>\n",
              "      <td>0</td>\n",
              "      <td>0</td>\n",
              "      <td>0</td>\n",
              "      <td>1</td>\n",
              "      <td>0</td>\n",
              "      <td>0</td>\n",
              "      <td>0</td>\n",
              "      <td>0</td>\n",
              "      <td>0</td>\n",
              "      <td>0</td>\n",
              "      <td>0</td>\n",
              "      <td>0</td>\n",
              "      <td>0</td>\n",
              "    </tr>\n",
              "    <tr>\n",
              "      <th>2</th>\n",
              "      <td>2</td>\n",
              "      <td>2015</td>\n",
              "      <td>4</td>\n",
              "      <td>26</td>\n",
              "      <td>7</td>\n",
              "      <td>AA</td>\n",
              "      <td>2200</td>\n",
              "      <td>N3BWAA</td>\n",
              "      <td>DFW</td>\n",
              "      <td>FLL</td>\n",
              "      <td>8.0</td>\n",
              "      <td>38.0</td>\n",
              "      <td>2051.0</td>\n",
              "      <td>168.0</td>\n",
              "      <td>182.0</td>\n",
              "      <td>136.0</td>\n",
              "      <td>1119</td>\n",
              "      <td>7.0</td>\n",
              "      <td>8.0</td>\n",
              "      <td>22.0</td>\n",
              "      <td>0</td>\n",
              "      <td>0</td>\n",
              "      <td>(2000.0, 2200.0]</td>\n",
              "      <td>(2200.0, 2400.0]</td>\n",
              "      <td>1</td>\n",
              "      <td>28</td>\n",
              "      <td>0</td>\n",
              "      <td>0</td>\n",
              "      <td>0</td>\n",
              "      <td>0</td>\n",
              "      <td>1</td>\n",
              "      <td>0</td>\n",
              "      <td>0</td>\n",
              "      <td>0</td>\n",
              "      <td>0</td>\n",
              "      <td>0</td>\n",
              "      <td>0</td>\n",
              "      <td>0</td>\n",
              "      <td>0</td>\n",
              "      <td>0</td>\n",
              "      <td>...</td>\n",
              "      <td>0</td>\n",
              "      <td>0</td>\n",
              "      <td>0</td>\n",
              "      <td>0</td>\n",
              "      <td>0</td>\n",
              "      <td>0</td>\n",
              "      <td>0</td>\n",
              "      <td>0</td>\n",
              "      <td>0</td>\n",
              "      <td>0</td>\n",
              "      <td>0</td>\n",
              "      <td>1</td>\n",
              "      <td>0</td>\n",
              "      <td>0</td>\n",
              "      <td>0</td>\n",
              "      <td>0</td>\n",
              "      <td>0</td>\n",
              "      <td>0</td>\n",
              "      <td>0</td>\n",
              "      <td>0</td>\n",
              "      <td>0</td>\n",
              "      <td>0</td>\n",
              "      <td>0</td>\n",
              "      <td>1</td>\n",
              "      <td>0</td>\n",
              "      <td>0</td>\n",
              "      <td>0</td>\n",
              "      <td>0</td>\n",
              "      <td>0</td>\n",
              "      <td>0</td>\n",
              "      <td>0</td>\n",
              "      <td>0</td>\n",
              "      <td>0</td>\n",
              "      <td>0</td>\n",
              "      <td>0</td>\n",
              "      <td>0</td>\n",
              "      <td>0</td>\n",
              "      <td>0</td>\n",
              "      <td>0</td>\n",
              "      <td>0</td>\n",
              "    </tr>\n",
              "    <tr>\n",
              "      <th>3</th>\n",
              "      <td>3</td>\n",
              "      <td>2015</td>\n",
              "      <td>4</td>\n",
              "      <td>27</td>\n",
              "      <td>1</td>\n",
              "      <td>DL</td>\n",
              "      <td>1672</td>\n",
              "      <td>N992DL</td>\n",
              "      <td>ATL</td>\n",
              "      <td>BUF</td>\n",
              "      <td>-2.0</td>\n",
              "      <td>28.0</td>\n",
              "      <td>846.0</td>\n",
              "      <td>119.0</td>\n",
              "      <td>129.0</td>\n",
              "      <td>96.0</td>\n",
              "      <td>712</td>\n",
              "      <td>1022.0</td>\n",
              "      <td>5.0</td>\n",
              "      <td>8.0</td>\n",
              "      <td>0</td>\n",
              "      <td>0</td>\n",
              "      <td>(800.0, 1000.0]</td>\n",
              "      <td>(1000.0, 1200.0]</td>\n",
              "      <td>1</td>\n",
              "      <td>26</td>\n",
              "      <td>0</td>\n",
              "      <td>2</td>\n",
              "      <td>0</td>\n",
              "      <td>0</td>\n",
              "      <td>1</td>\n",
              "      <td>0</td>\n",
              "      <td>0</td>\n",
              "      <td>0</td>\n",
              "      <td>0</td>\n",
              "      <td>0</td>\n",
              "      <td>0</td>\n",
              "      <td>0</td>\n",
              "      <td>0</td>\n",
              "      <td>0</td>\n",
              "      <td>...</td>\n",
              "      <td>0</td>\n",
              "      <td>0</td>\n",
              "      <td>0</td>\n",
              "      <td>0</td>\n",
              "      <td>0</td>\n",
              "      <td>0</td>\n",
              "      <td>0</td>\n",
              "      <td>0</td>\n",
              "      <td>0</td>\n",
              "      <td>0</td>\n",
              "      <td>0</td>\n",
              "      <td>0</td>\n",
              "      <td>0</td>\n",
              "      <td>0</td>\n",
              "      <td>0</td>\n",
              "      <td>1</td>\n",
              "      <td>1</td>\n",
              "      <td>0</td>\n",
              "      <td>0</td>\n",
              "      <td>0</td>\n",
              "      <td>0</td>\n",
              "      <td>0</td>\n",
              "      <td>0</td>\n",
              "      <td>0</td>\n",
              "      <td>0</td>\n",
              "      <td>0</td>\n",
              "      <td>0</td>\n",
              "      <td>0</td>\n",
              "      <td>0</td>\n",
              "      <td>1</td>\n",
              "      <td>0</td>\n",
              "      <td>0</td>\n",
              "      <td>0</td>\n",
              "      <td>0</td>\n",
              "      <td>0</td>\n",
              "      <td>0</td>\n",
              "      <td>0</td>\n",
              "      <td>0</td>\n",
              "      <td>0</td>\n",
              "      <td>0</td>\n",
              "    </tr>\n",
              "    <tr>\n",
              "      <th>4</th>\n",
              "      <td>4</td>\n",
              "      <td>2015</td>\n",
              "      <td>10</td>\n",
              "      <td>20</td>\n",
              "      <td>2</td>\n",
              "      <td>NK</td>\n",
              "      <td>326</td>\n",
              "      <td>N633NK</td>\n",
              "      <td>12892</td>\n",
              "      <td>12266</td>\n",
              "      <td>-5.0</td>\n",
              "      <td>10.0</td>\n",
              "      <td>1610.0</td>\n",
              "      <td>190.0</td>\n",
              "      <td>205.0</td>\n",
              "      <td>166.0</td>\n",
              "      <td>1379</td>\n",
              "      <td>2056.0</td>\n",
              "      <td>29.0</td>\n",
              "      <td>10.0</td>\n",
              "      <td>0</td>\n",
              "      <td>0</td>\n",
              "      <td>(1600.0, 1800.0]</td>\n",
              "      <td>(2000.0, 2200.0]</td>\n",
              "      <td>1</td>\n",
              "      <td>4</td>\n",
              "      <td>2</td>\n",
              "      <td>3</td>\n",
              "      <td>0</td>\n",
              "      <td>0</td>\n",
              "      <td>0</td>\n",
              "      <td>0</td>\n",
              "      <td>0</td>\n",
              "      <td>0</td>\n",
              "      <td>0</td>\n",
              "      <td>0</td>\n",
              "      <td>1</td>\n",
              "      <td>0</td>\n",
              "      <td>0</td>\n",
              "      <td>1</td>\n",
              "      <td>...</td>\n",
              "      <td>0</td>\n",
              "      <td>0</td>\n",
              "      <td>0</td>\n",
              "      <td>0</td>\n",
              "      <td>0</td>\n",
              "      <td>0</td>\n",
              "      <td>0</td>\n",
              "      <td>0</td>\n",
              "      <td>1</td>\n",
              "      <td>0</td>\n",
              "      <td>0</td>\n",
              "      <td>0</td>\n",
              "      <td>0</td>\n",
              "      <td>0</td>\n",
              "      <td>0</td>\n",
              "      <td>0</td>\n",
              "      <td>0</td>\n",
              "      <td>0</td>\n",
              "      <td>0</td>\n",
              "      <td>0</td>\n",
              "      <td>0</td>\n",
              "      <td>0</td>\n",
              "      <td>1</td>\n",
              "      <td>0</td>\n",
              "      <td>0</td>\n",
              "      <td>0</td>\n",
              "      <td>0</td>\n",
              "      <td>0</td>\n",
              "      <td>0</td>\n",
              "      <td>0</td>\n",
              "      <td>0</td>\n",
              "      <td>0</td>\n",
              "      <td>0</td>\n",
              "      <td>0</td>\n",
              "      <td>1</td>\n",
              "      <td>0</td>\n",
              "      <td>0</td>\n",
              "      <td>0</td>\n",
              "      <td>0</td>\n",
              "      <td>0</td>\n",
              "    </tr>\n",
              "  </tbody>\n",
              "</table>\n",
              "<p>5 rows × 175 columns</p>\n",
              "</div>"
            ],
            "text/plain": [
              "   Unnamed: 0  YEAR  MONTH  DAY  ...  AIRLINE_UA AIRLINE_US  AIRLINE_VX AIRLINE_WN\n",
              "0           0  2015     12   25  ...           0          0           0          0\n",
              "1           1  2015      1    1  ...           0          0           0          0\n",
              "2           2  2015      4   26  ...           0          0           0          0\n",
              "3           3  2015      4   27  ...           0          0           0          0\n",
              "4           4  2015     10   20  ...           0          0           0          0\n",
              "\n",
              "[5 rows x 175 columns]"
            ]
          },
          "metadata": {
            "tags": []
          },
          "execution_count": 5
        }
      ]
    },
    {
      "cell_type": "code",
      "metadata": {
        "id": "l3InPUQpUAku",
        "colab_type": "code",
        "outputId": "349be774-9856-4c7d-8ec0-e210442d8571",
        "colab": {
          "base_uri": "https://localhost:8080/",
          "height": 1000
        }
      },
      "source": [
        "for columns in X.columns:\n",
        "  print(columns)"
      ],
      "execution_count": 0,
      "outputs": [
        {
          "output_type": "stream",
          "text": [
            "Unnamed: 0\n",
            "ELAPSED_TIME\n",
            "DISTANCE\n",
            "DIVERTED\n",
            "CANCELLED\n",
            "MONTH_2\n",
            "MONTH_3\n",
            "MONTH_4\n",
            "MONTH_5\n",
            "MONTH_6\n",
            "MONTH_7\n",
            "MONTH_8\n",
            "MONTH_9\n",
            "MONTH_10\n",
            "MONTH_11\n",
            "MONTH_12\n",
            "DAY_OF_WEEK_2\n",
            "DAY_OF_WEEK_3\n",
            "DAY_OF_WEEK_4\n",
            "DAY_OF_WEEK_5\n",
            "DAY_OF_WEEK_6\n",
            "DAY_OF_WEEK_7\n",
            "TAIL_NUMBER_1\n",
            "TAIL_NUMBER_2\n",
            "TAIL_NUMBER_3\n",
            "TAIL_NUMBER_4\n",
            "TAIL_NUMBER_5\n",
            "TAIL_NUMBER_6\n",
            "TAIL_NUMBER_7\n",
            "TAIL_NUMBER_8\n",
            "TAIL_NUMBER_9\n",
            "TAIL_NUMBER_10\n",
            "TAIL_NUMBER_11\n",
            "TAIL_NUMBER_12\n",
            "TAIL_NUMBER_13\n",
            "TAIL_NUMBER_14\n",
            "TAIL_NUMBER_15\n",
            "TAIL_NUMBER_16\n",
            "TAIL_NUMBER_17\n",
            "TAIL_NUMBER_18\n",
            "TAIL_NUMBER_19\n",
            "TAIL_NUMBER_20\n",
            "TAIL_NUMBER_21\n",
            "TAIL_NUMBER_22\n",
            "TAIL_NUMBER_23\n",
            "TAIL_NUMBER_24\n",
            "TAIL_NUMBER_25\n",
            "TAIL_NUMBER_26\n",
            "TAIL_NUMBER_27\n",
            "TAIL_NUMBER_28\n",
            "TAIL_NUMBER_29\n",
            "TAIL_NUMBER_30\n",
            "TAIL_NUMBER_31\n",
            "TAIL_NUMBER_32\n",
            "TAIL_NUMBER_33\n",
            "TAIL_NUMBER_34\n",
            "TAIL_NUMBER_35\n",
            "TAIL_NUMBER_36\n",
            "TAIL_NUMBER_37\n",
            "TAIL_NUMBER_38\n",
            "TAIL_NUMBER_39\n",
            "TAIL_NUMBER_40\n",
            "TAIL_NUMBER_41\n",
            "TAIL_NUMBER_42\n",
            "TAIL_NUMBER_43\n",
            "TAIL_NUMBER_44\n",
            "TAIL_NUMBER_45\n",
            "TAIL_NUMBER_46\n",
            "ORIGIN_AIRPORT_1\n",
            "ORIGIN_AIRPORT_2\n",
            "ORIGIN_AIRPORT_3\n",
            "ORIGIN_AIRPORT_4\n",
            "ORIGIN_AIRPORT_5\n",
            "ORIGIN_AIRPORT_6\n",
            "ORIGIN_AIRPORT_7\n",
            "ORIGIN_AIRPORT_8\n",
            "ORIGIN_AIRPORT_9\n",
            "ORIGIN_AIRPORT_10\n",
            "ORIGIN_AIRPORT_11\n",
            "ORIGIN_AIRPORT_12\n",
            "ORIGIN_AIRPORT_13\n",
            "ORIGIN_AIRPORT_14\n",
            "ORIGIN_AIRPORT_15\n",
            "ORIGIN_AIRPORT_16\n",
            "ORIGIN_AIRPORT_17\n",
            "ORIGIN_AIRPORT_18\n",
            "ORIGIN_AIRPORT_19\n",
            "ORIGIN_AIRPORT_20\n",
            "ORIGIN_AIRPORT_21\n",
            "ORIGIN_AIRPORT_22\n",
            "ORIGIN_AIRPORT_23\n",
            "ORIGIN_AIRPORT_24\n",
            "ORIGIN_AIRPORT_25\n",
            "DESTINATION_AIRPORT_1\n",
            "DESTINATION_AIRPORT_2\n",
            "DESTINATION_AIRPORT_3\n",
            "DESTINATION_AIRPORT_4\n",
            "DESTINATION_AIRPORT_5\n",
            "DESTINATION_AIRPORT_6\n",
            "DESTINATION_AIRPORT_7\n",
            "DESTINATION_AIRPORT_8\n",
            "DESTINATION_AIRPORT_9\n",
            "DESTINATION_AIRPORT_10\n",
            "DESTINATION_AIRPORT_11\n",
            "DESTINATION_AIRPORT_12\n",
            "DESTINATION_AIRPORT_13\n",
            "DESTINATION_AIRPORT_14\n",
            "DESTINATION_AIRPORT_15\n",
            "DESTINATION_AIRPORT_16\n",
            "DESTINATION_AIRPORT_17\n",
            "DESTINATION_AIRPORT_18\n",
            "DESTINATION_AIRPORT_19\n",
            "DESTINATION_AIRPORT_20\n",
            "DESTINATION_AIRPORT_21\n",
            "DESTINATION_AIRPORT_22\n",
            "DESTINATION_AIRPORT_23\n",
            "DESTINATION_AIRPORT_24\n",
            "SCHEDULED_DEPARTURE_(1000.0, 1200.0]\n",
            "SCHEDULED_DEPARTURE_(1200.0, 1400.0]\n",
            "SCHEDULED_DEPARTURE_(1400.0, 1600.0]\n",
            "SCHEDULED_DEPARTURE_(1600.0, 1800.0]\n",
            "SCHEDULED_DEPARTURE_(1800.0, 2000.0]\n",
            "SCHEDULED_DEPARTURE_(200.0, 400.0]\n",
            "SCHEDULED_DEPARTURE_(2000.0, 2200.0]\n",
            "SCHEDULED_DEPARTURE_(2200.0, 2400.0]\n",
            "SCHEDULED_DEPARTURE_(400.0, 600.0]\n",
            "SCHEDULED_DEPARTURE_(600.0, 800.0]\n",
            "SCHEDULED_DEPARTURE_(800.0, 1000.0]\n",
            "SCHEDULED_ARRIVAL_(1000.0, 1200.0]\n",
            "SCHEDULED_ARRIVAL_(1200.0, 1400.0]\n",
            "SCHEDULED_ARRIVAL_(1400.0, 1600.0]\n",
            "SCHEDULED_ARRIVAL_(1600.0, 1800.0]\n",
            "SCHEDULED_ARRIVAL_(1800.0, 2000.0]\n",
            "SCHEDULED_ARRIVAL_(200.0, 400.0]\n",
            "SCHEDULED_ARRIVAL_(2000.0, 2200.0]\n",
            "SCHEDULED_ARRIVAL_(2200.0, 2400.0]\n",
            "SCHEDULED_ARRIVAL_(400.0, 600.0]\n",
            "SCHEDULED_ARRIVAL_(600.0, 800.0]\n",
            "SCHEDULED_ARRIVAL_(800.0, 1000.0]\n",
            "AIRLINE_AS\n",
            "AIRLINE_B6\n",
            "AIRLINE_DL\n",
            "AIRLINE_EV\n",
            "AIRLINE_F9\n",
            "AIRLINE_HA\n",
            "AIRLINE_MQ\n",
            "AIRLINE_NK\n",
            "AIRLINE_OO\n",
            "AIRLINE_UA\n",
            "AIRLINE_US\n",
            "AIRLINE_VX\n",
            "AIRLINE_WN\n"
          ],
          "name": "stdout"
        }
      ]
    },
    {
      "cell_type": "code",
      "metadata": {
        "id": "nD2o9dTgWaxS",
        "colab_type": "code",
        "colab": {}
      },
      "source": [
        "from sklearn.model_selection import train_test_split"
      ],
      "execution_count": 0,
      "outputs": []
    },
    {
      "cell_type": "code",
      "metadata": {
        "id": "_oNOMdAnWqr6",
        "colab_type": "code",
        "colab": {}
      },
      "source": [
        "X = df.drop([\"YEAR\",\"MONTH\",\"DAY\",\"DAY_OF_WEEK\",\"AIRLINE\",\"FLIGHT_NUMBER\",\"TAIL_NUMBER\",\"ORIGIN_AIRPORT\",\"DESTINATION_AIRPORT\",\"DEPARTURE_DELAY\",\"TAXI_OUT\",\"WHEELS_OFF\",\"SCHEDULED_TIME\",\"AIR_TIME\",\"WHEELS_ON\",\"TAXI_IN\",\"ARRIVAL_DELAY\",\"ARRIVAL_DELAY_BOOL\",\"SCHEDULED_DEPARTURE\",\"SCHEDULED_ARRIVAL\",\"TAIL_NUMBERS_BINNED\",\"ORIGIN_AIRPORT_BINNED\",\"DESTINATION_AIRPORT_BINNED\"],axis=1)"
      ],
      "execution_count": 0,
      "outputs": []
    },
    {
      "cell_type": "code",
      "metadata": {
        "id": "YQjKn6gnXdBg",
        "colab_type": "code",
        "colab": {}
      },
      "source": [
        "y = df[\"ARRIVAL_DELAY_BOOL\"]"
      ],
      "execution_count": 0,
      "outputs": []
    },
    {
      "cell_type": "code",
      "metadata": {
        "id": "AhiGU--aX5RT",
        "colab_type": "code",
        "colab": {}
      },
      "source": [
        "X_train,X_test,y_train, y_test = train_test_split(X, y, test_size=0.2,random_state=42)"
      ],
      "execution_count": 0,
      "outputs": []
    },
    {
      "cell_type": "code",
      "metadata": {
        "id": "7DCcVRZpX9S0",
        "colab_type": "code",
        "colab": {}
      },
      "source": [
        "model = XGBClassifier(n_estimators=500, random_state=42)"
      ],
      "execution_count": 0,
      "outputs": []
    },
    {
      "cell_type": "code",
      "metadata": {
        "id": "uyqncqRAX_bi",
        "colab_type": "code",
        "colab": {}
      },
      "source": [
        "eval_set = [(X_train, y_train), (X_test, y_test)]\n",
        "eval_metric = [\"auc\",\"error\"]"
      ],
      "execution_count": 0,
      "outputs": []
    },
    {
      "cell_type": "code",
      "metadata": {
        "id": "Ptfb3kzM3UMl",
        "colab_type": "code",
        "colab": {}
      },
      "source": [
        "import re\n",
        "regex = re.compile(r\"\\[|\\]|<\", re.IGNORECASE)"
      ],
      "execution_count": 0,
      "outputs": []
    },
    {
      "cell_type": "code",
      "metadata": {
        "id": "Fg3eVbBk2tjI",
        "colab_type": "code",
        "colab": {}
      },
      "source": [
        "X_test.columns = [regex.sub(\"_\", col) if any(x in str(col) for x in set(('[', ']', '<'))) else col for col in X_test.columns.values]"
      ],
      "execution_count": 0,
      "outputs": []
    },
    {
      "cell_type": "code",
      "metadata": {
        "id": "L9UhTmY92OUW",
        "colab_type": "code",
        "outputId": "53d5ad9c-97a1-4fa3-d80d-fd1bb25dc5bd",
        "colab": {
          "base_uri": "https://localhost:8080/",
          "height": 170
        }
      },
      "source": [
        "import time\n",
        "%time model.fit(X_train, y_train)"
      ],
      "execution_count": 0,
      "outputs": [
        {
          "output_type": "stream",
          "text": [
            "CPU times: user 9min 50s, sys: 519 ms, total: 9min 51s\n",
            "Wall time: 9min 51s\n"
          ],
          "name": "stdout"
        },
        {
          "output_type": "execute_result",
          "data": {
            "text/plain": [
              "XGBClassifier(base_score=0.5, booster='gbtree', colsample_bylevel=1,\n",
              "              colsample_bynode=1, colsample_bytree=1, gamma=0,\n",
              "              learning_rate=0.1, max_delta_step=0, max_depth=3,\n",
              "              min_child_weight=1, missing=None, n_estimators=500, n_jobs=1,\n",
              "              nthread=None, objective='binary:logistic', random_state=42,\n",
              "              reg_alpha=0, reg_lambda=1, scale_pos_weight=1, seed=None,\n",
              "              silent=None, subsample=1, verbosity=1)"
            ]
          },
          "metadata": {
            "tags": []
          },
          "execution_count": 32
        }
      ]
    },
    {
      "cell_type": "code",
      "metadata": {
        "id": "7Xn-EzaKYXDD",
        "colab_type": "code",
        "colab": {}
      },
      "source": [
        "pred_test = model.predict(X_test)"
      ],
      "execution_count": 0,
      "outputs": []
    },
    {
      "cell_type": "code",
      "metadata": {
        "id": "lDcZjWQ6Ya9f",
        "colab_type": "code",
        "colab": {}
      },
      "source": [
        "from sklearn.metrics import confusion_matrix"
      ],
      "execution_count": 0,
      "outputs": []
    },
    {
      "cell_type": "code",
      "metadata": {
        "id": "ImkNzW_gYxjT",
        "colab_type": "code",
        "colab": {}
      },
      "source": [
        "matrix = confusion_matrix(y_test,pred_test)"
      ],
      "execution_count": 0,
      "outputs": []
    },
    {
      "cell_type": "code",
      "metadata": {
        "id": "q6XIsUXbY9In",
        "colab_type": "code",
        "colab": {}
      },
      "source": [
        "from sklearn.ensemble import RandomForestClassifier"
      ],
      "execution_count": 0,
      "outputs": []
    },
    {
      "cell_type": "code",
      "metadata": {
        "id": "9fOLctOBi5XZ",
        "colab_type": "code",
        "colab": {}
      },
      "source": [
        "rfc = RandomForestClassifier(n_estimators=500)"
      ],
      "execution_count": 0,
      "outputs": []
    },
    {
      "cell_type": "code",
      "metadata": {
        "id": "ViGEQEYjkLvW",
        "colab_type": "code",
        "outputId": "b7458985-d8a2-4805-9e80-dc48445ae1e1",
        "colab": {
          "base_uri": "https://localhost:8080/",
          "height": 136
        }
      },
      "source": [
        "rfc.fit(X_train,y_train)"
      ],
      "execution_count": 0,
      "outputs": [
        {
          "output_type": "execute_result",
          "data": {
            "text/plain": [
              "RandomForestClassifier(bootstrap=True, class_weight=None, criterion='gini',\n",
              "                       max_depth=None, max_features='auto', max_leaf_nodes=None,\n",
              "                       min_impurity_decrease=0.0, min_impurity_split=None,\n",
              "                       min_samples_leaf=1, min_samples_split=2,\n",
              "                       min_weight_fraction_leaf=0.0, n_estimators=500,\n",
              "                       n_jobs=None, oob_score=False, random_state=None,\n",
              "                       verbose=0, warm_start=False)"
            ]
          },
          "metadata": {
            "tags": []
          },
          "execution_count": 15
        }
      ]
    },
    {
      "cell_type": "code",
      "metadata": {
        "id": "7KVJddhWGrwI",
        "colab_type": "code",
        "colab": {}
      },
      "source": [
        ""
      ],
      "execution_count": 0,
      "outputs": []
    },
    {
      "cell_type": "code",
      "metadata": {
        "id": "X-FZKH90kSzh",
        "colab_type": "code",
        "colab": {}
      },
      "source": [
        "rfc_pred = rfc.predict(X_test)"
      ],
      "execution_count": 0,
      "outputs": []
    },
    {
      "cell_type": "code",
      "metadata": {
        "id": "BdIj6AnLkc5s",
        "colab_type": "code",
        "colab": {}
      },
      "source": [
        "matrix = confusion_matrix(y_test,rfc_pred)"
      ],
      "execution_count": 0,
      "outputs": []
    },
    {
      "cell_type": "code",
      "metadata": {
        "id": "6BpsN8rWlT2p",
        "colab_type": "code",
        "outputId": "cac94a1e-135b-402f-de0f-a9be1edc5a36",
        "colab": {
          "base_uri": "https://localhost:8080/",
          "height": 34
        }
      },
      "source": [
        "((matrix[0][0]+matrix[1][1])/(matrix[0][0]+matrix[0][1]+matrix[1][0]+matrix[1][1]))*100"
      ],
      "execution_count": 0,
      "outputs": [
        {
          "output_type": "execute_result",
          "data": {
            "text/plain": [
              "71.953"
            ]
          },
          "metadata": {
            "tags": []
          },
          "execution_count": 41
        }
      ]
    }
  ]
}